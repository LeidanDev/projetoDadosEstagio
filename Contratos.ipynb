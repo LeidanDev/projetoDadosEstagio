{
 "cells": [
  {
   "cell_type": "markdown",
   "metadata": {},
   "source": [
    "Import de biblioteca e leitura do CSV"
   ]
  },
  {
   "cell_type": "code",
   "execution_count": 7,
   "metadata": {},
   "outputs": [],
   "source": [
    "import pandas as pd\n",
    "\n",
    "df = pd.read_csv(('CONTRATOS.CSV'), sep=';', encoding='latin-1')"
   ]
  },
  {
   "cell_type": "markdown",
   "metadata": {},
   "source": [
    "Tratamento das Datas"
   ]
  },
  {
   "cell_type": "code",
   "execution_count": 8,
   "metadata": {},
   "outputs": [
    {
     "name": "stderr",
     "output_type": "stream",
     "text": [
      "C:\\Users\\User\\AppData\\Local\\Temp\\ipykernel_13168\\2897140790.py:6: UserWarning: Parsing dates in %d/%m/%Y format when dayfirst=False (the default) was specified. Pass `dayfirst=True` or specify a format to silence this warning.\n",
      "  df[coluna] = pd.to_datetime(df[coluna], errors='coerce')\n",
      "C:\\Users\\User\\AppData\\Local\\Temp\\ipykernel_13168\\2897140790.py:6: UserWarning: Parsing dates in %d/%m/%Y format when dayfirst=False (the default) was specified. Pass `dayfirst=True` or specify a format to silence this warning.\n",
      "  df[coluna] = pd.to_datetime(df[coluna], errors='coerce')\n",
      "C:\\Users\\User\\AppData\\Local\\Temp\\ipykernel_13168\\2897140790.py:6: UserWarning: Parsing dates in %d/%m/%Y format when dayfirst=False (the default) was specified. Pass `dayfirst=True` or specify a format to silence this warning.\n",
      "  df[coluna] = pd.to_datetime(df[coluna], errors='coerce')\n",
      "C:\\Users\\User\\AppData\\Local\\Temp\\ipykernel_13168\\2897140790.py:6: UserWarning: Parsing dates in %d/%m/%Y format when dayfirst=False (the default) was specified. Pass `dayfirst=True` or specify a format to silence this warning.\n",
      "  df[coluna] = pd.to_datetime(df[coluna], errors='coerce')\n"
     ]
    }
   ],
   "source": [
    "colunas_data_para_processar = ['Data Contratação', 'Data Início Vigência', 'Data Fim Vigência', 'Data Public DEORJ']\n",
    "\n",
    "# Itera sobre cada coluna\n",
    "for coluna in colunas_data_para_processar:\n",
    "    # Converte para datetime\n",
    "    df[coluna] = pd.to_datetime(df[coluna], errors='coerce')\n",
    "\n",
    "    # Encontra a data mais frequente\n",
    "    data_mais_frequente = df[coluna].mode()[0]\n",
    "\n",
    "    # Preenche os valores NaN com a data mais frequente\n",
    "    df[coluna] = df[coluna].fillna(data_mais_frequente)"
   ]
  },
  {
   "cell_type": "markdown",
   "metadata": {},
   "source": [
    "Tratamento do nome de uma coluna em especifico"
   ]
  },
  {
   "cell_type": "code",
   "execution_count": 9,
   "metadata": {},
   "outputs": [],
   "source": [
    "coluna_a_renomear = ' Valor Total Pago (R$)'\n",
    "\n",
    "# Especificar o novo nome da coluna\n",
    "novo_nome_coluna = 'Valor Total Pago (R$)'"
   ]
  },
  {
   "cell_type": "markdown",
   "metadata": {},
   "source": [
    "Tratamento de valores numericos da tabela"
   ]
  },
  {
   "cell_type": "code",
   "execution_count": 10,
   "metadata": {},
   "outputs": [],
   "source": [
    "# Lista com os nomes das colunas a serem tratadas\n",
    "colunas_para_tratar = ['Valor Total Empenhado (R$)', 'Valor Total Liquidado (R$)', ' Valor Total Pago (R$)']\n",
    "\n",
    "# Itera sobre as colunas e realiza o procedimento para cada uma\n",
    "for nome_da_coluna in colunas_para_tratar:\n",
    "    if nome_da_coluna in df.columns:\n",
    "        # Converte a coluna para string antes de substituir vírgulas e pontos\n",
    "        df[nome_da_coluna] = df[nome_da_coluna].astype(str).str.replace(',', '').str.replace('.', '')\n",
    "\n",
    "        # Converte para float\n",
    "        df[nome_da_coluna] = pd.to_numeric(df[nome_da_coluna], errors='coerce')\n",
    "\n",
    "        # Calcula a mediana da coluna\n",
    "        mediana_coluna = df[nome_da_coluna].median()\n",
    "\n",
    "        # Preenche os valores NaN com a mediana\n",
    "        df[nome_da_coluna] = df[nome_da_coluna].fillna(mediana_coluna)"
   ]
  },
  {
   "cell_type": "markdown",
   "metadata": {},
   "source": [
    "Tratamento de Strings da tabela"
   ]
  },
  {
   "cell_type": "code",
   "execution_count": 11,
   "metadata": {},
   "outputs": [],
   "source": [
    "# Lista com os nomes das colunas a serem preenchidas\n",
    "colunas_para_preencher = ['Processo', 'Objeto', 'Tipo de Aquisição']\n",
    "\n",
    "# Preenche os valores NaN nas colunas com a moda da respectiva coluna\n",
    "for coluna in colunas_para_preencher:\n",
    "    # Calcula a moda da coluna\n",
    "    moda_coluna = df[coluna].mode()[0]\n",
    "\n",
    "    # Preenche os valores NaN com a moda da coluna\n",
    "    df[coluna] = df[coluna].fillna(moda_coluna)"
   ]
  },
  {
   "cell_type": "code",
   "execution_count": 12,
   "metadata": {},
   "outputs": [
    {
     "name": "stdout",
     "output_type": "stream",
     "text": [
      "<class 'pandas.core.frame.DataFrame'>\n",
      "RangeIndex: 99680 entries, 0 to 99679\n",
      "Data columns (total 18 columns):\n",
      " #   Column                                                     Non-Null Count  Dtype         \n",
      "---  ------                                                     --------------  -----         \n",
      " 0   Contratação                                                99680 non-null  int64         \n",
      " 1   Status Contratação                                         99680 non-null  object        \n",
      " 2   Data Contratação                                           99680 non-null  datetime64[ns]\n",
      " 3   Unidade                                                    99680 non-null  object        \n",
      " 4   Processo                                                   99680 non-null  object        \n",
      " 5   Objeto                                                     99680 non-null  object        \n",
      " 6   Tipo de Aquisição                                          99680 non-null  object        \n",
      " 7   Critério de Julgamento                                     99680 non-null  object        \n",
      " 8   Data Início Vigência                                       99680 non-null  datetime64[ns]\n",
      " 9   Data Fim Vigência                                          99680 non-null  datetime64[ns]\n",
      " 10  Fornecedor                                                 99680 non-null  object        \n",
      " 11  CPF/CNPJ                                                   99680 non-null  object        \n",
      " 12  Valor Total Contrato/Valor Estimado para Contratação (R$)  99680 non-null  object        \n",
      " 13  Valor Total Empenhado (R$)                                 99680 non-null  float64       \n",
      " 14  Valor Total Liquidado (R$)                                 99680 non-null  float64       \n",
      " 15   Valor Total Pago (R$)                                     99680 non-null  float64       \n",
      " 16  Data Public DEORJ                                          99680 non-null  datetime64[ns]\n",
      " 17  data_extracao                                              99680 non-null  object        \n",
      "dtypes: datetime64[ns](4), float64(3), int64(1), object(10)\n",
      "memory usage: 13.7+ MB\n",
      "None\n",
      "Contratação                                                  0\n",
      "Status Contratação                                           0\n",
      "Data Contratação                                             0\n",
      "Unidade                                                      0\n",
      "Processo                                                     0\n",
      "Objeto                                                       0\n",
      "Tipo de Aquisição                                            0\n",
      "Critério de Julgamento                                       0\n",
      "Data Início Vigência                                         0\n",
      "Data Fim Vigência                                            0\n",
      "Fornecedor                                                   0\n",
      "CPF/CNPJ                                                     0\n",
      "Valor Total Contrato/Valor Estimado para Contratação (R$)    0\n",
      "Valor Total Empenhado (R$)                                   0\n",
      "Valor Total Liquidado (R$)                                   0\n",
      " Valor Total Pago (R$)                                       0\n",
      "Data Public DEORJ                                            0\n",
      "data_extracao                                                0\n",
      "dtype: int64\n"
     ]
    }
   ],
   "source": [
    "print(df.info())\n",
    "print(df.isna().sum())"
   ]
  }
 ],
 "metadata": {
  "kernelspec": {
   "display_name": "Python 3",
   "language": "python",
   "name": "python3"
  },
  "language_info": {
   "codemirror_mode": {
    "name": "ipython",
    "version": 3
   },
   "file_extension": ".py",
   "mimetype": "text/x-python",
   "name": "python",
   "nbconvert_exporter": "python",
   "pygments_lexer": "ipython3",
   "version": "3.11.5"
  }
 },
 "nbformat": 4,
 "nbformat_minor": 2
}
