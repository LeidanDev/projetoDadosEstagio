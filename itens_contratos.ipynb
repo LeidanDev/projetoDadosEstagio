{
 "cells": [
  {
   "cell_type": "markdown",
   "metadata": {},
   "source": [
    "Import de biblioteca e leitura de arquivo csv"
   ]
  },
  {
   "cell_type": "code",
   "execution_count": 3,
   "metadata": {},
   "outputs": [],
   "source": [
    "import pandas as pd\n",
    "\n",
    "# Leia o CSV desativando o aviso\n",
    "df = pd.read_csv('ITENS_CONTRATOS.CSV', sep=';', encoding='latin-1', low_memory=False)"
   ]
  },
  {
   "cell_type": "markdown",
   "metadata": {},
   "source": [
    "Formatando coluna que estava com Valor NaN"
   ]
  },
  {
   "cell_type": "code",
   "execution_count": 4,
   "metadata": {},
   "outputs": [],
   "source": [
    "# Exemplo de dados com valores em formato de string\n",
    "dados = {'VL. Unit.Original': ['1,000', '2,000', '3,000', None, None, None]}\n",
    "\n",
    "# Converte a coluna para string antes de substituir vírgulas e pontos\n",
    "df['VL. Unit.Original'] = df['VL. Unit.Original'].astype(str).str.replace(',', '').str.replace('.', '')\n",
    "\n",
    "# Converte para float\n",
    "df['VL. Unit.Original'] = pd.to_numeric(df['VL. Unit.Original'], errors='coerce')\n",
    "\n",
    "# Calcula a média da coluna convertida para float\n",
    "media_coluna = df['VL. Unit.Original'].mean()\n",
    "\n",
    "# Preenche os valores NaN com a média da coluna\n",
    "df['VL. Unit.Original'] = df['VL. Unit.Original'].fillna(media_coluna)"
   ]
  },
  {
   "cell_type": "markdown",
   "metadata": {},
   "source": [
    "Exibindo todos os calores preenchidos"
   ]
  },
  {
   "cell_type": "code",
   "execution_count": 5,
   "metadata": {},
   "outputs": [
    {
     "name": "stdout",
     "output_type": "stream",
     "text": [
      "<class 'pandas.core.frame.DataFrame'>\n",
      "RangeIndex: 279089 entries, 0 to 279088\n",
      "Data columns (total 8 columns):\n",
      " #   Column                        Non-Null Count   Dtype  \n",
      "---  ------                        --------------   -----  \n",
      " 0   Contratação                   279089 non-null  int64  \n",
      " 1   ID Item                       279089 non-null  int64  \n",
      " 2   Item                          279089 non-null  object \n",
      " 3   Qtde Original                 279089 non-null  object \n",
      " 4   VL. Unit.Original             279089 non-null  float64\n",
      " 5   Total Aditivada/Suprimida     279089 non-null  object \n",
      " 6   VL. Unit.Aditivado/Suprimido  279089 non-null  object \n",
      " 7   data_extracao                 279089 non-null  object \n",
      "dtypes: float64(1), int64(2), object(5)\n",
      "memory usage: 17.0+ MB\n",
      "None\n",
      "Contratação                     0\n",
      "ID Item                         0\n",
      "Item                            0\n",
      "Qtde Original                   0\n",
      "VL. Unit.Original               0\n",
      "Total Aditivada/Suprimida       0\n",
      "VL. Unit.Aditivado/Suprimido    0\n",
      "data_extracao                   0\n",
      "dtype: int64\n"
     ]
    }
   ],
   "source": [
    "print(df.info())\n",
    "print(df.isna().sum())"
   ]
  }
 ],
 "metadata": {
  "kernelspec": {
   "display_name": "Python 3",
   "language": "python",
   "name": "python3"
  },
  "language_info": {
   "codemirror_mode": {
    "name": "ipython",
    "version": 3
   },
   "file_extension": ".py",
   "mimetype": "text/x-python",
   "name": "python",
   "nbconvert_exporter": "python",
   "pygments_lexer": "ipython3",
   "version": "3.11.5"
  }
 },
 "nbformat": 4,
 "nbformat_minor": 2
}
